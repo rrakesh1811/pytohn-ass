{
 "cells": [
  {
   "cell_type": "markdown",
   "id": "0f6a3591-8acb-4325-971c-d4b50eadd554",
   "metadata": {},
   "source": [
    "Q1.  Explain Class and Object with respect to Object-Oriented Programming. Give a suitable example."
   ]
  },
  {
   "cell_type": "markdown",
   "id": "9a0f8b8f-2584-43cc-bbac-db6618da1796",
   "metadata": {},
   "source": [
    "ANS.  In Object-Oriented Programming (OOP), a class is a blueprint or a template that defines the attributes and behaviors that an object of that class will have. An object is an instance of a class, which means that it is created based on the specifications defined in the class."
   ]
  },
  {
   "cell_type": "code",
   "execution_count": 4,
   "id": "9c4a4c36-4b41-4823-836a-1764a54636f5",
   "metadata": {},
   "outputs": [
    {
     "data": {
      "text/plain": [
       "('Rakesh', 22)"
      ]
     },
     "execution_count": 4,
     "metadata": {},
     "output_type": "execute_result"
    }
   ],
   "source": [
    "class person :\n",
    "    \n",
    "    def __init__(self,name,age):\n",
    "        self.name = name\n",
    "        self.age = age\n",
    "        \n",
    "        \n",
    "    def this_his(self):\n",
    "        return self.name,self.age\n",
    "    \n",
    "    \n",
    "Rakesh = person('Rakesh',22)\n",
    "\n",
    "Rakesh.this_his()"
   ]
  },
  {
   "cell_type": "markdown",
   "id": "37e17e54-7490-4a58-bb21-fd3f18c52d10",
   "metadata": {},
   "source": [
    "In this example, we have defined a class called 'person' with two attributes 'name'and 'age', and a method called 'this_his()' which prints the person's information. We then create an object of the 'person' class called 'Rakesh', and pass the arguments 'Rakesh' and 22 to the constructor method to intialize the object's attributes.\n",
    "\n",
    "Finally, we call the 'this_his()'method on the 'Rakesh' object to print the person's information."
   ]
  },
  {
   "cell_type": "markdown",
   "id": "6b461cf6-0cf7-4d46-8bd6-39b92c9dac83",
   "metadata": {},
   "source": [
    "Q2. Name the four pillars of OOPs."
   ]
  },
  {
   "cell_type": "markdown",
   "id": "58aee7dc-8dc1-4b40-ae94-df601f539808",
   "metadata": {},
   "source": [
    "ANS. \n",
    "\n",
    "     1.Encapsulation: The concept of wrapping data and methods together as a single unit, and restricting access to the inner workings of an object from outside.\n",
    "\n",
    "     2. Abstraction: The idea of hiding complex details and only revealing essential information to the user.\n",
    "    \n",
    "     3. Inheritance: The ability to define a new class based on an existing class, inheriting all of its attributes and methods.\n",
    "        \n",
    "     4. Polymorphism: The ability of objects to take on many forms or have multiple behaviors depending  on the context in which they are used. In python."
   ]
  },
  {
   "cell_type": "markdown",
   "id": "2fb90813-166f-4d89-80bf-d35b17131566",
   "metadata": {},
   "source": [
    "Q3.  Explain why the '__init__()' function is used. Give a suitable example."
   ]
  },
  {
   "cell_type": "markdown",
   "id": "fbc1e526-5c2d-4da8-a211-639242d9a8c4",
   "metadata": {},
   "source": [
    "ANS.  In python, the '__init__()' function is a special method that is used to initialize the attrubutes  of an object when it is created. It is called a constructor because it is automatically called when an object of a class is created.\n",
    "\n",
    "The '__init__()' function is used to set the inital values of the object's attributes, which can be passed as arguments when the object is created. It can also perform any necessary initialization tasks, such as opening files or establishing a database connection."
   ]
  },
  {
   "cell_type": "code",
   "execution_count": 7,
   "id": "6b08858b-c199-4b72-979a-82901f565310",
   "metadata": {},
   "outputs": [
    {
     "data": {
      "text/plain": [
       "(1, 7057743333, 'sagar@gmail.com')"
      ]
     },
     "execution_count": 7,
     "metadata": {},
     "output_type": "execute_result"
    }
   ],
   "source": [
    "class person :\n",
    "    \n",
    "    def __init__(self , phone , gmail , student):\n",
    "        self.phone = phone\n",
    "        self.gmail = gmail\n",
    "        self.student = student\n",
    "        \n",
    "    def ABCD(self):\n",
    "        return self.student , self.phone, self.gmail\n",
    "    \n",
    "    \n",
    "sagar = pwskills1(7057743333,'sagar@gmail.com',1)\n",
    "\n",
    "sagar.ABCD()"
   ]
  },
  {
   "cell_type": "markdown",
   "id": "ec1581c1-c93d-48ad-a237-d9c95fc8efc7",
   "metadata": {},
   "source": [
    "In this example, we have difined a class called 'pwskills1' with three attributes 'Phone','gmail','student', and method called 'ABCD' which print the 'person's information. The '__init__()' function takes three parameters, 'phone','gmail'and'student',  and sets the corresponding attributes of the object using the 'self' keyword."
   ]
  },
  {
   "cell_type": "markdown",
   "id": "059dcc7f-2283-473b-b659-7bda231dcd93",
   "metadata": {},
   "source": [
    "Q4.  Why self is used in OOPs?"
   ]
  },
  {
   "cell_type": "markdown",
   "id": "eb2ab7b9-36ad-4dda-9724-e838283516c0",
   "metadata": {},
   "source": [
    "ANS.  In Object-Oriented Programming (OOP), 'self' refers to an instance of a class. It used to access the attrubutes of an object within the class definition.\n",
    "\n",
    "In OOP, a class is a blueprint or template for creating objects,and an object is an instance of a class. when you create an object, it has its own set of attributes and methods that are defined by the class. The 'self' keyword is used to refer to these attributes and methods within the class definition."
   ]
  },
  {
   "cell_type": "markdown",
   "id": "e39d2711-8842-43c9-8a58-1c007c7d8726",
   "metadata": {},
   "source": [
    "Q5. What is inheritance? Give an example for each type of inheritance."
   ]
  },
  {
   "cell_type": "markdown",
   "id": "28c28508-0bd9-43fc-a87d-25a8ee808107",
   "metadata": {},
   "source": [
    "ANS.  Inheritance is a mechanism in object-oriented programming that allows a new class to be based on an existing class, inheriting its properties and behavior. The new class is called the subclass or derived class, and the existing class is called the superclass or base class.\n",
    "\n",
    "There are several types of inheritance, including:"
   ]
  },
  {
   "cell_type": "code",
   "execution_count": 4,
   "id": "46742737-d415-4aa5-9527-c32e4314aa3c",
   "metadata": {},
   "outputs": [
    {
     "data": {
      "text/plain": [
       "'My first class'"
      ]
     },
     "execution_count": 4,
     "metadata": {},
     "output_type": "execute_result"
    }
   ],
   "source": [
    "#1. Single Inheritance: In this type of inheritance, a subclass is derived from a single superclass\n",
    "\n",
    "class test:\n",
    "    \n",
    "    def test_method(self):\n",
    "        return \"My first class\"\n",
    "    \n",
    "class child_c(test):\n",
    "    pass\n",
    "\n",
    "child_child = child_c()\n",
    "\n",
    "child_child.test_method()"
   ]
  },
  {
   "cell_type": "code",
   "execution_count": 19,
   "id": "9284fbcb-cfa9-47e9-b871-cee62bd66a63",
   "metadata": {},
   "outputs": [
    {
     "name": "stdout",
     "output_type": "stream",
     "text": [
      "method_a from class A \n",
      "method_b from class B\n",
      "method_c from class C\n"
     ]
    }
   ],
   "source": [
    "#2. Multiple Inheritance: In this type of inheritance, a subclass is derived from multiple superclass.\n",
    "\n",
    "class A:\n",
    "    \n",
    "    def method_a(self):\n",
    "        print (\"method_a from class A \")\n",
    "    \n",
    "class B:\n",
    "    \n",
    "    def method_b(self):\n",
    "        print (\"method_b from class B\")\n",
    "    \n",
    "class C(A,B):\n",
    "    \n",
    "    def method_c(self):\n",
    "        print (\"method_c from class C\")\n",
    "obj = C()\n",
    "obj.method_a()\n",
    "obj.method_b()\n",
    "obj.method_c()"
   ]
  },
  {
   "cell_type": "code",
   "execution_count": 43,
   "id": "072cd326-de2e-45e3-9bc9-6b54bc26c6f3",
   "metadata": {},
   "outputs": [
    {
     "name": "stdout",
     "output_type": "stream",
     "text": [
      "Fido\n",
      "runing....\n",
      "None\n",
      "woof!\n"
     ]
    }
   ],
   "source": [
    "#3.  Multi_level Inheritance: In this type of inheritancem a subclass is derived from another subclass, which is itself derived from a superclass.\n",
    "class animal:\n",
    "    def __init__(self,name):\n",
    "        self.name = name\n",
    "        \n",
    "    def speak(self):\n",
    "        pass\n",
    "    \n",
    "    \n",
    "class stret(animal):\n",
    "    def run(self):\n",
    "        print (\"runing....\")\n",
    "    \n",
    "    \n",
    "class Dog(stret):\n",
    "    def speak(self):\n",
    "        return \"woof!\"\n",
    "    \n",
    "my_dog = Dog(\"Fido\")\n",
    "print(my_dog.name)\n",
    "print(my_dog.run())\n",
    "print(my_dog.speak())\n"
   ]
  },
  {
   "cell_type": "code",
   "execution_count": null,
   "id": "347a5c1b-9b55-411a-9ad4-0677bb28bd88",
   "metadata": {},
   "outputs": [],
   "source": []
  }
 ],
 "metadata": {
  "kernelspec": {
   "display_name": "Python 3 (ipykernel)",
   "language": "python",
   "name": "python3"
  },
  "language_info": {
   "codemirror_mode": {
    "name": "ipython",
    "version": 3
   },
   "file_extension": ".py",
   "mimetype": "text/x-python",
   "name": "python",
   "nbconvert_exporter": "python",
   "pygments_lexer": "ipython3",
   "version": "3.9.7"
  }
 },
 "nbformat": 4,
 "nbformat_minor": 5
}
