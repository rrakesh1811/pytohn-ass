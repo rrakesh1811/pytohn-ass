{
 "cells": [
  {
   "cell_type": "markdown",
   "id": "57b96d99-77dd-4ce8-9ee8-fa2ea022299f",
   "metadata": {},
   "source": [
    "Q1. Create a function which will take a list as an argument and return the product of all the numbers after creating a flat list.\n",
    "\n",
    "Use the below-given list as an argument for your function.\n",
    "\n",
    "list1 = [1,2,3,4, [44,55,66, True], False, (34,56,78,89,34), {1,2,3,3,2,1}, {1:34, \"key2\": [55, 67, 78, 89], 4: (45,\n",
    "22, 61, 34)}, [56, 'data science'], 'Machine Learning']"
   ]
  },
  {
   "cell_type": "code",
   "execution_count": 26,
   "id": "d02a36ec-cad0-4c4d-826d-342e9d636700",
   "metadata": {},
   "outputs": [],
   "source": [
    "def product_of_numbers(lst):\n",
    "    flat_list = []\n",
    "    for item in lst:\n",
    "        if type(item) == list or type(item) == tuple or type(item) == set:\n",
    "            flat_list.extend(item)\n",
    "        else:\n",
    "            flat_list.append(item)\n",
    "    product = 1\n",
    "    for num in flat_list:\n",
    "        if type(num) == int or type(num) == float:\n",
    "            product *= num\n",
    "    return product\n"
   ]
  },
  {
   "cell_type": "code",
   "execution_count": 11,
   "id": "40765114-55c4-4985-982b-e65e9dd30818",
   "metadata": {},
   "outputs": [
    {
     "name": "stdout",
     "output_type": "stream",
     "text": [
      "578815684656168960\n"
     ]
    }
   ],
   "source": [
    "list1 = [1,2,3,4, [44,55,66, True], False, (34,56,78,89,34), {1,2,3,3,2,1}, {1:34, \"key2\": [55, 67, 78, 89], 4: (45, 22, 61, 34)}, [56, 'data science'], 'Machine Learning']\n",
    "print(product_of_numbers(list1))\n"
   ]
  },
  {
   "cell_type": "markdown",
   "id": "c6b99d0b-b2d1-4943-a71a-2bf43322fbbf",
   "metadata": {},
   "source": [
    "Q2. Write a python program for encrypting a message sent to you by your friend. The logic of encrytion should be such that, for a the output should be Z. For b, the output should be Y. For c, the output should be X respectively. Also, the whitespace should be replaced with a dollar sign. Keep the punctution marks unchanged.\n",
    "\n",
    "Input Sentence: I want to become a Data scientist.\n",
    "\n",
    "Encrypt the above input sentence using the program you just created.\n",
    "\n",
    "Note: Convert the given input sentence into lowercase before encrypting. The final output should be\n",
    "lowercase."
   ]
  },
  {
   "cell_type": "code",
   "execution_count": 77,
   "id": "11cb5d94-8207-4488-a0ea-00ef4f1acd43",
   "metadata": {},
   "outputs": [
    {
     "name": "stdout",
     "output_type": "stream",
     "text": [
      "R$dzmg$gl$yvxlnv$z$Wzgz$hxrvmgrhg.\n"
     ]
    }
   ],
   "source": [
    "def encrypt(message):\n",
    "    encrypted_message = \"\"\n",
    "    for char in message:\n",
    "        if char.isalpha():\n",
    "            if char.isupper():\n",
    "                encrypted_char = chr(90 - (ord(char) - 65))\n",
    "            else:\n",
    "                encrypted_char = chr(122 - (ord(char) - 97))\n",
    "            encrypted_message += encrypted_char\n",
    "        elif char.isspace():\n",
    "            encrypted_message += \"$\"\n",
    "        else:\n",
    "            encrypted_message += char\n",
    "    return encrypted_message\n",
    "\n",
    "\n",
    "message = \"I want to become a Data scientist.\"\n",
    "encrypted_message = encrypt(message)\n",
    "print(encrypted_message)\n",
    " \n"
   ]
  },
  {
   "cell_type": "markdown",
   "id": "a6279879-06c7-4728-a285-698fa99b4cde",
   "metadata": {},
   "source": [
    "In this version of the encrypt function, we handle both uppercase and lowercase letters separately. For uppercase letters, we subtract their position in the alphabet from 90 to get the corresponding encrypted character. For lowercase letters, we subtract their position in the alphabet from 122 (the ASCII value of 'z') to get the corresponding encrypted character.\n",
    "\n",
    "You can call this function with your message as an argument to encrypt it, like this"
   ]
  },
  {
   "cell_type": "code",
   "execution_count": null,
   "id": "2a42dde5-0813-4fd6-91d2-85a466eabaf9",
   "metadata": {},
   "outputs": [],
   "source": []
  }
 ],
 "metadata": {
  "kernelspec": {
   "display_name": "Python 3 (ipykernel)",
   "language": "python",
   "name": "python3"
  },
  "language_info": {
   "codemirror_mode": {
    "name": "ipython",
    "version": 3
   },
   "file_extension": ".py",
   "mimetype": "text/x-python",
   "name": "python",
   "nbconvert_exporter": "python",
   "pygments_lexer": "ipython3",
   "version": "3.9.7"
  }
 },
 "nbformat": 4,
 "nbformat_minor": 5
}
