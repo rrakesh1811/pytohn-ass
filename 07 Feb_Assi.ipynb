{
 "cells": [
  {
   "cell_type": "markdown",
   "id": "591aa6a9-7a4f-4318-90d2-3f09c16e6b1f",
   "metadata": {},
   "source": [
    "Q1.  You are writing code for a company. The requirement of the company is that you create a python\n",
    "function that will check whether the password entered by the user is correct or not. The function should\n",
    "take the password as input and return the string “Valid Password” if the entered password follows the\n",
    "below-given password guidelines else it should return “Invalid Password”.\n",
    "\n",
    "\n",
    "Note:\n",
    "1. The Password should contain at least two uppercase letters and at least two lowercase letters.\n",
    "2. The Password should contain at least a number and three special characters.\n",
    "3. The length of the password should be 10 characters long. "
   ]
  },
  {
   "cell_type": "code",
   "execution_count": 75,
   "id": "0d271c1c-302f-41ac-a426-613ce20c72f1",
   "metadata": {},
   "outputs": [],
   "source": [
    "import re\n",
    "\n",
    "\n",
    "def check_password(password):\n",
    "    uppercase_count = len(re.findall(r'[A-Z]',password))\n",
    "    lowercase_count = len(re.findall(r']a-z]',password))\n",
    "    digit_count = len(re.findall(r'[1to10]', password))\n",
    "    special_count = len(re.findall(r'[!@#$%^&*()-+]', password))\n",
    "    \n",
    "    if len(password) == 10 and uppercase_count >= 2 and lowercase_count >=2 and digit_count >= 1 and special_count >= 3:\n",
    "        return \"Valid Password\"\n",
    "    else :\n",
    "        return \"Invaid Password\"\n",
    "    "
   ]
  },
  {
   "cell_type": "code",
   "execution_count": 76,
   "id": "8e7d8e9d-dc31-4829-8c0d-6b8c6733d48a",
   "metadata": {},
   "outputs": [
    {
     "name": "stdout",
     "output_type": "stream",
     "text": [
      "Invaid Password\n"
     ]
    }
   ],
   "source": [
    "password = \"ABcd123!@#$\"\n",
    "result = check_password(password)\n",
    "print(result)"
   ]
  },
  {
   "cell_type": "markdown",
   "id": "fb9fc81e-d06b-49d9-906a-e75909417142",
   "metadata": {},
   "source": [
    "Q2. Solve the below-given questions using at least one of the following:\n",
    "1. Lambda function\n",
    "2. Filter function\n",
    "3. Zap function\n",
    "4. List Comprehension\n",
    "\n",
    "\n",
    "1 Check if the string starts with a particular letter\n",
    "\n",
    "2 Check if the string is numeric.\n",
    "\n",
    "3 Sort a list of tuples having fruit names and their quantity. [(\"mango\",99),(\"orange\",80), (\"grapes\", 1000)]\n",
    "\n",
    "4 Find the squares of numbers from 1 to 10.\n",
    "\n",
    "5 Find the cube root of numbers from 1 to 10.\n",
    "\n",
    "6 Check if a given number is even.\n",
    "\n",
    "7 Filter odd numbers from the given list.[1,2,3,4,5,6,7,8,9,10]\n",
    "\n",
    "8 Sort a list of integers into positive and negative integers lists[1,2,3,4,5,6,-1,-2,-3,-4,-5,0]\n"
   ]
  },
  {
   "cell_type": "code",
   "execution_count": 55,
   "id": "d464ba98-c8f5-48d6-824d-c130c8c80ea5",
   "metadata": {},
   "outputs": [
    {
     "name": "stdout",
     "output_type": "stream",
     "text": [
      "True\n"
     ]
    }
   ],
   "source": [
    "#1 Check if the string starts with a particular letter\n",
    "# Using lambda function and string method 'startswith'\n",
    "\n",
    "string = \"Hello world!\"\n",
    "startswith = lambda x: x.startswith(\"H\")\n",
    "result =  startswith(string)\n",
    "print(result)"
   ]
  },
  {
   "cell_type": "code",
   "execution_count": 56,
   "id": "9608d4cc-eb41-4c85-ba86-79717702dfaf",
   "metadata": {},
   "outputs": [
    {
     "name": "stdout",
     "output_type": "stream",
     "text": [
      "True\n"
     ]
    }
   ],
   "source": [
    "#2 Check if the string is numeric.\n",
    "# Using lambda function and string method 'isdigit'\n",
    "\n",
    "string = \"12345\"\n",
    "\n",
    "Num = lambda x: x.isdigit()\n",
    "result = Num(string)\n",
    "print(result)"
   ]
  },
  {
   "cell_type": "code",
   "execution_count": 58,
   "id": "ff277042-a0eb-44fa-8916-4e0bf829378b",
   "metadata": {},
   "outputs": [
    {
     "name": "stdout",
     "output_type": "stream",
     "text": [
      "[('orange', 80), ('mango', 99), ('grapes', 1000)]\n"
     ]
    }
   ],
   "source": [
    "#3 Sort a list of tuples having fruit names and their quantity. [(\"mango\",99),(\"orange\",80), (\"grapes\", 1000)]\n",
    "# Using lambda function and 'sorted function.\n",
    "\n",
    "l1 = [(\"mango\",99),(\"orange\",80), (\"grapes\", 1000)]\n",
    "ABC = sorted(l1,key=lambda x:x[1])\n",
    "print(ABC)\n"
   ]
  },
  {
   "cell_type": "code",
   "execution_count": 59,
   "id": "7931f83c-caf3-4715-b4ab-b78fd33481a4",
   "metadata": {},
   "outputs": [
    {
     "name": "stdout",
     "output_type": "stream",
     "text": [
      "[1, 4, 9, 16, 25, 36, 49, 64, 81, 100]\n"
     ]
    }
   ],
   "source": [
    "#4 Find the squares of numbers from 1 to 10.\n",
    "# Using list comprehension\n",
    "\n",
    "squares = [x*x for x in range(1,11)]\n",
    "print(squares)"
   ]
  },
  {
   "cell_type": "code",
   "execution_count": 64,
   "id": "cc0c78ca-7d73-4497-aae8-2e3518991f29",
   "metadata": {},
   "outputs": [
    {
     "name": "stdout",
     "output_type": "stream",
     "text": [
      "[1.0, 1.2599210498948732, 1.4422495703074083, 1.5874010519681994, 1.7099759466766968, 1.8171205928321397, 1.912931182772389, 2.0, 2.080083823051904, 2.154434690031884]\n"
     ]
    }
   ],
   "source": [
    "#5 Find the cube root of numbers from 1 to 10.\n",
    "# Using list comprehension and 'math' module\n",
    "import math\n",
    "\n",
    "cuberoots = [math.pow(x,1/3) for x in range(1,11)]\n",
    "print(cuberoots)"
   ]
  },
  {
   "cell_type": "code",
   "execution_count": 72,
   "id": "efb62d56-0523-4546-bb84-09b4bae1806d",
   "metadata": {},
   "outputs": [
    {
     "name": "stdout",
     "output_type": "stream",
     "text": [
      "True\n"
     ]
    }
   ],
   "source": [
    "#6 Check if a given number is even.\n",
    "# Using lambda function and modulo operator '%'\n",
    "\n",
    "Even = (lambda x: x%2==0)\n",
    "result = Even(12)\n",
    "print(result)"
   ]
  },
  {
   "cell_type": "code",
   "execution_count": 73,
   "id": "16a817ff-ccd3-4698-b328-4a7b2a5baca8",
   "metadata": {},
   "outputs": [
    {
     "name": "stdout",
     "output_type": "stream",
     "text": [
      "[1, 3, 5, 7, 9]\n"
     ]
    }
   ],
   "source": [
    "#7 Filter odd numbers from the given list.[1,2,3,4,5,6,7,8,9,10]\n",
    "# Using lambda function and 'filter' function\n",
    "\n",
    "lis = [1,2,3,4,5,6,7,8,9,10]\n",
    "oddnumber = list(filter(lambda x: x%2!=0,lis))\n",
    "print(oddnumber)"
   ]
  },
  {
   "cell_type": "code",
   "execution_count": 74,
   "id": "0f417409-fcad-4f0c-a5db-3375190ca6de",
   "metadata": {},
   "outputs": [
    {
     "name": "stdout",
     "output_type": "stream",
     "text": [
      "[1, 2, 3, 4, 5, 6]\n",
      "[-1, -2, -3, -4, -5]\n"
     ]
    }
   ],
   "source": [
    "#8 Sort a list of integers into positive and negative integers lists[1,2,3,4,5,6,-1,-2,-3,-4,-5,0]\n",
    "# Using list comprehension\n",
    "l1 = [1,2,3,4,5,6,-1,-2,-3,-4,-5,0]\n",
    "positivenumber = [x for x in l1 if x > 0]\n",
    "negativenumber = [x for x in l1 if x < 0]\n",
    "print(positivenumber)\n",
    "print(negativenumber)\n"
   ]
  },
  {
   "cell_type": "code",
   "execution_count": null,
   "id": "c393e8e2-38ef-4be0-bb2d-f21fabc6aea4",
   "metadata": {},
   "outputs": [],
   "source": [
    "="
   ]
  }
 ],
 "metadata": {
  "kernelspec": {
   "display_name": "Python 3 (ipykernel)",
   "language": "python",
   "name": "python3"
  },
  "language_info": {
   "codemirror_mode": {
    "name": "ipython",
    "version": 3
   },
   "file_extension": ".py",
   "mimetype": "text/x-python",
   "name": "python",
   "nbconvert_exporter": "python",
   "pygments_lexer": "ipython3",
   "version": "3.9.7"
  }
 },
 "nbformat": 4,
 "nbformat_minor": 5
}
