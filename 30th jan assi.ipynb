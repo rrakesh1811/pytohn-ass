{
 "cells": [
  {
   "cell_type": "markdown",
   "id": "c5b03d4a-913e-4d72-9ea4-8bf6bea35650",
   "metadata": {},
   "source": [
    "Q1. Write a program to accept percentage from the user and display the grade according to the following criteria:\n",
    "    \n",
    "    \n",
    "    Marks              Grade\n",
    "    >90                  A\n",
    "    >80 and <=90         B\n",
    "    >=60 and <=80        C\n",
    "    below 60             D\n",
    "    "
   ]
  },
  {
   "cell_type": "code",
   "execution_count": 1,
   "id": "248451ce-03f3-4ad8-877a-d9ec3d78e408",
   "metadata": {},
   "outputs": [
    {
     "name": "stdin",
     "output_type": "stream",
     "text": [
      "Enter percentage: 88.88\n"
     ]
    },
    {
     "name": "stdout",
     "output_type": "stream",
     "text": [
      "Grade: B\n"
     ]
    }
   ],
   "source": [
    "percentage=float(input('Enter percentage:'))\n",
    "if percentage  >90:\n",
    "    grade = \"A\"\n",
    "elif percentage  >80 and percentage <=90:\n",
    "    grade = \"B\"\n",
    "elif percentage  >=60 and percentage <=80:\n",
    "    grade = \"C\"\n",
    "else:\n",
    "    grade = \"D\"\n",
    "    \n",
    "print('Grade:',grade)"
   ]
  },
  {
   "cell_type": "markdown",
   "id": "70fe9b35-7728-4d70-9cc9-03d94527f059",
   "metadata": {},
   "source": [
    "Q2. Write a program to accept the cost price of a bike and display the road tax to be paid according to the following criteria:\n",
    "\n",
    "    Tax              Cost Price(in Rs)\n",
    "    15%                   >100000\n",
    "    10%                   >50000 and <=100000\n",
    "    5%                    >=500000"
   ]
  },
  {
   "cell_type": "code",
   "execution_count": 7,
   "id": "12dc45fa-d1d4-4ea3-8d30-c44e63a7a577",
   "metadata": {},
   "outputs": [
    {
     "name": "stdin",
     "output_type": "stream",
     "text": [
      "Enter cost price of the bike: 200000\n"
     ]
    },
    {
     "name": "stdout",
     "output_type": "stream",
     "text": [
      "Road tax to be paid: Rs. 30000.0\n"
     ]
    }
   ],
   "source": [
    "Cost = int(input('Enter cost price of the bike:'))\n",
    "\n",
    "if Cost >100000:\n",
    "    tax = 0.15 * Cost\n",
    "elif Cost >50000 and Cost <=100000:\n",
    "    tax = 0.10 * Cost\n",
    "elif Cost >=500000:\n",
    "    tax = 0.5 * Cost\n",
    "else:\n",
    "    tax = 0\n",
    "    \n",
    "print('Road tax to be paid: Rs.',tax)"
   ]
  },
  {
   "cell_type": "markdown",
   "id": "83cd1aef-8441-4908-b703-67e07c97a757",
   "metadata": {},
   "source": [
    "Q3. Accept any city from the user and display monuments of that city.\n",
    "\n",
    "\n",
    "       City                     Monument\n",
    "       Delhi                    Red Fort\n",
    "       Agra                     Taj mahal\n",
    "       Jaipur                   Jal mahal\n",
    "       "
   ]
  },
  {
   "cell_type": "code",
   "execution_count": 23,
   "id": "2c8e1a8b-2089-474a-8f5a-8322559e45c3",
   "metadata": {},
   "outputs": [
    {
     "name": "stdin",
     "output_type": "stream",
     "text": [
      "Enter a city name: Delhi\n"
     ]
    },
    {
     "name": "stdout",
     "output_type": "stream",
     "text": [
      "The monument of Delhi is Red Fort.\n"
     ]
    }
   ],
   "source": [
    "monuments = {\n",
    "    \"Delhi\": \"Red Fort\",\n",
    "    \"Agra\": \"Taj Mahal\",\n",
    "    \"Jaipur\": \"Jal Mahal\"}\n",
    "\n",
    "City = input('Enter a city name:')\n",
    "\n",
    "if City in monuments:\n",
    "    print(f'The monument of {City} is {monuments[City]}.')\n",
    "else:\n",
    "    print(f'Sorry, we do not have information on the monuments of (City).')"
   ]
  },
  {
   "cell_type": "markdown",
   "id": "e6329440-4754-42d0-96cc-9dd896e4161c",
   "metadata": {},
   "source": [
    "Q4. Check how many times a given number can be divided by 3 before it is less than or equal to 10."
   ]
  },
  {
   "cell_type": "code",
   "execution_count": 4,
   "id": "b6c65ab1-f256-4173-a492-f82a411b9e92",
   "metadata": {},
   "outputs": [
    {
     "name": "stdin",
     "output_type": "stream",
     "text": [
      "Enter a number: 10\n"
     ]
    },
    {
     "name": "stdout",
     "output_type": "stream",
     "text": [
      "The number can be divided by 3 0 times before it is less than or equal to 10.\n"
     ]
    }
   ],
   "source": [
    "num = int(input('Enter a number:'))\n",
    "\n",
    "count = 0\n",
    "while num > 10:\n",
    "    num /= 3\n",
    "    count += 1\n",
    "    \n",
    "print(f\"The number can be divided by 3 {count} times before it is less than or equal to 10.\")"
   ]
  },
  {
   "cell_type": "markdown",
   "id": "140e74c5-9728-4d32-9f32-503ef9eeca52",
   "metadata": {},
   "source": [
    "Q5. Why and When to use while loop in python give a detailed description with example"
   ]
  },
  {
   "cell_type": "markdown",
   "id": "085e3a94-3faf-42a7-9356-9e5b1b9ad29e",
   "metadata": {},
   "source": [
    "ANS. The 'while' loop in python is used to repeatedly execute a block of code as long as a particular condition is true. The loop continues until the condition becomes false. The general syntax of a 'while' loop in python is:\n",
    "    \n",
    "    while condition:\n",
    "        statement(s)\n",
    "        \n",
    "        \n",
    "The'condition' is evaluated before each iteration of the loop. If the condition is true, the 'statement(s)' inside the loop are executed. This process continues until the condition becomes false.\n",
    "\n",
    "The 'while' loop is particularly useful when we don't know how many times we need to execute a block of code, and the number of iterations depends on some condition. For example, we can use a 'while' loop to iterate over the elements of a list until a certain element is found, or to keep asking the user for input until they provide valid input.\n",
    "\n"
   ]
  },
  {
   "cell_type": "code",
   "execution_count": 24,
   "id": "46ae5b20-15d0-4287-8f39-f72df31a4faa",
   "metadata": {},
   "outputs": [
    {
     "name": "stdin",
     "output_type": "stream",
     "text": [
      "Enter a number between 1 and 100: 90\n"
     ]
    },
    {
     "name": "stdout",
     "output_type": "stream",
     "text": [
      "You entered 90.\n"
     ]
    }
   ],
   "source": [
    "# Here's an example of how to use a 'while' loop in python:\n",
    "\n",
    "num = 0\n",
    "while num <1 or num > 100:\n",
    "    num = int(input('Enter a number between 1 and 100:'))\n",
    "    \n",
    "print(f\"You entered {num}.\")"
   ]
  },
  {
   "cell_type": "markdown",
   "id": "9bbb7439-ec88-494c-9c53-7cdfa5953671",
   "metadata": {},
   "source": [
    "In this example, we use a 'while' loop to keep asking the user for input until they enter a number between 1 and 100. The loop continues as long as 'num' is less than 1 or greater than 100. Once the user enters a valid number, the loop exits, and the user's input is printed.\n",
    "\n",
    "Another example of using a 'while' loop is to iterate over the elements of a list until a certain element is found. Foe example:"
   ]
  },
  {
   "cell_type": "code",
   "execution_count": 28,
   "id": "618e11e9-33ba-43d9-a852-ebbec8b3f76a",
   "metadata": {},
   "outputs": [
    {
     "name": "stdout",
     "output_type": "stream",
     "text": [
      "Found the orange\n"
     ]
    }
   ],
   "source": [
    "fruits = ['apple','banana','orange','kiwi','mango']\n",
    "\n",
    "i = 0\n",
    "while i < len(fruits):\n",
    "    if fruits[i] == 'orange':\n",
    "        print('Found the orange')\n",
    "        break\n",
    "    i += 1\n",
    "else:\n",
    "    print('The orange was not found.')"
   ]
  },
  {
   "cell_type": "markdown",
   "id": "e0803047-d96c-456f-904d-106f35475446",
   "metadata": {},
   "source": [
    "In this example, we use a 'while' loop to iterate over the elements of the 'fruits' list until we find the 'orange' element. We use a counter variable 'i' to keep track of the index of the current element being checked. The loop continues as long as 'i' is less than the length of the list. Once the 'range' element is found, we print a message and exit the loop using the 'break' statement. If the 'orange' element is not found, we print a different message using the'else'statement.\n"
   ]
  },
  {
   "cell_type": "markdown",
   "id": "8ddbe741-df0e-4027-96df-a587bc0a710a",
   "metadata": {},
   "source": [
    "Q6. Use nested while loop to print 3 different partten."
   ]
  },
  {
   "cell_type": "code",
   "execution_count": 43,
   "id": "e7bfd525-a50e-477a-9331-3e9010ff2e7c",
   "metadata": {},
   "outputs": [
    {
     "name": "stdout",
     "output_type": "stream",
     "text": [
      "*\n",
      "**\n",
      "***\n",
      "****\n",
      "*****\n"
     ]
    }
   ],
   "source": [
    "# ANS.\n",
    "#  Pattern 1 is a simple triangle pattern that looks like this:\n",
    "\n",
    "i = 1\n",
    "while i <= 5:\n",
    "    j = 1\n",
    "    while j <= i:\n",
    "        print(\"*\", end=\"\")\n",
    "        j += 1\n",
    "    print()\n",
    "    i += 1"
   ]
  },
  {
   "cell_type": "code",
   "execution_count": 44,
   "id": "e577a1ef-6fbc-4db1-aed3-22e119b1b3a4",
   "metadata": {},
   "outputs": [
    {
     "name": "stdout",
     "output_type": "stream",
     "text": [
      "*****\n",
      "****\n",
      "***\n",
      "**\n",
      "*\n"
     ]
    }
   ],
   "source": [
    "# Pattern 2 is an inverted triangle pattern that looks like this:\n",
    "i = 5\n",
    "while i >= 1:\n",
    "    j = 1\n",
    "    while j <= i:\n",
    "        print(\"*\", end=\"\")\n",
    "        j += 1\n",
    "    print()\n",
    "    i -= 1\n"
   ]
  },
  {
   "cell_type": "code",
   "execution_count": 45,
   "id": "7d70d95e-84cb-4ccf-9b82-db32a6c263ca",
   "metadata": {},
   "outputs": [
    {
     "name": "stdout",
     "output_type": "stream",
     "text": [
      "1\n",
      "12\n",
      "123\n",
      "1234\n",
      "12345\n"
     ]
    }
   ],
   "source": [
    "# Pattern 3 is a triangle number pattern that looks like this:\n",
    "i = 1\n",
    "while i <= 5:\n",
    "    j = 1\n",
    "    while j <= i:\n",
    "        print(j, end=\"\")\n",
    "        j += 1\n",
    "    print()\n",
    "    i += 1"
   ]
  },
  {
   "cell_type": "markdown",
   "id": "87179f67-fe1e-44ad-8c04-9acb4eb8ad82",
   "metadata": {},
   "source": [
    "Q7. Reverse a while loop to display numbers from 10 to 1."
   ]
  },
  {
   "cell_type": "code",
   "execution_count": 2,
   "id": "79ca7475-0cd8-4f2a-8172-515f808aa2ca",
   "metadata": {},
   "outputs": [
    {
     "name": "stdout",
     "output_type": "stream",
     "text": [
      "10\n",
      "9\n",
      "8\n",
      "7\n",
      "6\n",
      "5\n",
      "4\n",
      "3\n",
      "2\n",
      "1\n"
     ]
    }
   ],
   "source": [
    "num = 10\n",
    "while num >= 1:\n",
    "    print(num)\n",
    "    num -= 1"
   ]
  },
  {
   "cell_type": "code",
   "execution_count": null,
   "id": "2f1321a5-d951-4a4a-a093-13c86540c97d",
   "metadata": {},
   "outputs": [],
   "source": []
  }
 ],
 "metadata": {
  "kernelspec": {
   "display_name": "Python 3 (ipykernel)",
   "language": "python",
   "name": "python3"
  },
  "language_info": {
   "codemirror_mode": {
    "name": "ipython",
    "version": 3
   },
   "file_extension": ".py",
   "mimetype": "text/x-python",
   "name": "python",
   "nbconvert_exporter": "python",
   "pygments_lexer": "ipython3",
   "version": "3.9.7"
  }
 },
 "nbformat": 4,
 "nbformat_minor": 5
}
