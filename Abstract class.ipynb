{
 "cells": [
  {
   "cell_type": "code",
   "execution_count": 6,
   "id": "bebc928a-4473-4c6a-97d3-c91d6c2d90e2",
   "metadata": {},
   "outputs": [],
   "source": [
    "import abc\n",
    "class pwskills:\n",
    "    \n",
    "    @abc.abstractmethod\n",
    "    def students_details(self):\n",
    "        pass\n",
    "    \n",
    "    @abc.abstractclassmethod\n",
    "    def students_assignment(self):\n",
    "        pass\n",
    "    \n",
    "    @abc.abstractclassmethod \n",
    "    def students_marks(self):\n",
    "        pass"
   ]
  },
  {
   "cell_type": "code",
   "execution_count": 7,
   "id": "fd6ac8c7-ba52-4fa4-b04d-81077d0b1eac",
   "metadata": {},
   "outputs": [],
   "source": [
    "class student_details(pwskills):\n",
    "    \n",
    "    def students_details(self):\n",
    "        return \"this is method for taking students details\"\n",
    "    \n",
    "    def students_assignmenta(self):\n",
    "        return \"this is a method for assing details for a perticular student\""
   ]
  },
  {
   "cell_type": "code",
   "execution_count": 8,
   "id": "4720cac8-9a10-4583-8cb8-82bc1b24af4e",
   "metadata": {},
   "outputs": [],
   "source": [
    "class data_science_masters(pwskills):\n",
    "    \n",
    "    def students_details(self):\n",
    "        return \"this will return a student details for data science masters\"\n",
    "    \n",
    "    def students_assignment(self):\n",
    "        return \"this will give you a student assignment details for data science\""
   ]
  },
  {
   "cell_type": "code",
   "execution_count": 9,
   "id": "616ce5c5-c968-4445-b019-dc81abfa0b70",
   "metadata": {},
   "outputs": [],
   "source": [
    "DSM = data_science_masters()"
   ]
  },
  {
   "cell_type": "code",
   "execution_count": 10,
   "id": "f3fc0e29-85a1-4919-9d95-0cfe83ecfadb",
   "metadata": {},
   "outputs": [
    {
     "data": {
      "text/plain": [
       "'this will return a student details for data science masters'"
      ]
     },
     "execution_count": 10,
     "metadata": {},
     "output_type": "execute_result"
    }
   ],
   "source": [
    "DSM.students_details()"
   ]
  },
  {
   "cell_type": "code",
   "execution_count": 11,
   "id": "98e5c2dc-759d-4ca6-8304-02a7f40f060d",
   "metadata": {},
   "outputs": [],
   "source": [
    "SD = student_details()"
   ]
  },
  {
   "cell_type": "code",
   "execution_count": 12,
   "id": "a2505fa4-bc1f-4150-b527-b837b40b11be",
   "metadata": {},
   "outputs": [
    {
     "data": {
      "text/plain": [
       "'this is method for taking students details'"
      ]
     },
     "execution_count": 12,
     "metadata": {},
     "output_type": "execute_result"
    }
   ],
   "source": [
    "SD.students_details()"
   ]
  },
  {
   "cell_type": "code",
   "execution_count": null,
   "id": "0ca88ba5-0d8b-4551-abe7-24278ffedf5f",
   "metadata": {},
   "outputs": [],
   "source": []
  }
 ],
 "metadata": {
  "kernelspec": {
   "display_name": "Python 3 (ipykernel)",
   "language": "python",
   "name": "python3"
  },
  "language_info": {
   "codemirror_mode": {
    "name": "ipython",
    "version": 3
   },
   "file_extension": ".py",
   "mimetype": "text/x-python",
   "name": "python",
   "nbconvert_exporter": "python",
   "pygments_lexer": "ipython3",
   "version": "3.9.7"
  }
 },
 "nbformat": 4,
 "nbformat_minor": 5
}
