{
 "cells": [
  {
   "cell_type": "markdown",
   "id": "087a7dea-4f58-4da8-9377-3e6cf3c12f51",
   "metadata": {},
   "source": [
    "Q1. Create a python program to sort the given list of tuples based on integer value using a a lambda function."
   ]
  },
  {
   "cell_type": "code",
   "execution_count": 13,
   "id": "6c68b89b-92e4-4944-8b0e-77d1909f9052",
   "metadata": {},
   "outputs": [
    {
     "name": "stdout",
     "output_type": "stream",
     "text": [
      "[('Sachin Tendulkar', 34357), ('Ricky Ponting', 27483), ('Jack Kallis', 25534), ('Virat Kohli', 24936)]\n"
     ]
    }
   ],
   "source": [
    "sl = [('Sachin Tendulkar', 34357), ('Ricky Ponting', 27483), ('Jack Kallis', 25534), ('Virat Kohli', 24936)]\n",
    "\n",
    "sll = sorted(sl,key= lambda x:x[1],reverse=True)\n",
    "print(sll)"
   ]
  },
  {
   "cell_type": "markdown",
   "id": "dd5af872-c26e-4f9d-b9b2-678e27e3bcae",
   "metadata": {},
   "source": [
    "Q2. Write a python program to find the squares of all the numbers in the given list of integers using lambda and map functions.\n",
    "[1,2,3,4,5,6,7,8,9,10]"
   ]
  },
  {
   "cell_type": "code",
   "execution_count": 23,
   "id": "7c191fce-6385-4ef3-993c-23a2d2f262ec",
   "metadata": {},
   "outputs": [
    {
     "data": {
      "text/plain": [
       "[1, 4, 9, 16, 25, 36, 49, 64, 81, 100]"
      ]
     },
     "execution_count": 23,
     "metadata": {},
     "output_type": "execute_result"
    }
   ],
   "source": [
    "l = [1,2,3,4,5,6,7,8,9,10]\n",
    "\n",
    "list(map(lambda l:l**2,l ))"
   ]
  },
  {
   "cell_type": "markdown",
   "id": "bcb0a496-9b57-44a7-a23e-ea03c1f2acc6",
   "metadata": {},
   "source": [
    "Q3. Write a python program to convert the given list of integers in to a tuples of strings. use map and lambda functions\n",
    "\n",
    "\n",
    "Given string:[1,2,3,4,5,6,7,8,9,10]\n",
    "Expected output:['1','2','3','4','5','6','7','8','9','10']"
   ]
  },
  {
   "cell_type": "code",
   "execution_count": 37,
   "id": "95ad3db3-ca32-4163-b321-1011b3d68cf7",
   "metadata": {},
   "outputs": [
    {
     "name": "stdout",
     "output_type": "stream",
     "text": [
      "['1', '2', '3', '4', '5', '6', '7', '8', '9', '10']\n"
     ]
    }
   ],
   "source": [
    "string = [1,2,3,4,5,6,7,8,9,10]\n",
    "\n",
    "tup = list(map(lambda x: str(x),string))\n",
    "\n",
    "print(tup)"
   ]
  },
  {
   "cell_type": "markdown",
   "id": "cdcb0c57-c128-416f-9c6a-1b6714321437",
   "metadata": {},
   "source": [
    "Q4. Write a python program using reduce function to compute the product of a list containing numbers from 1 to 25."
   ]
  },
  {
   "cell_type": "code",
   "execution_count": 41,
   "id": "225db191-db5b-4d25-a3e7-5c9d42856dc5",
   "metadata": {},
   "outputs": [],
   "source": [
    "from functools import reduce"
   ]
  },
  {
   "cell_type": "code",
   "execution_count": 44,
   "id": "86166d41-0e34-436d-8fb9-28f4874cbf80",
   "metadata": {},
   "outputs": [
    {
     "name": "stdout",
     "output_type": "stream",
     "text": [
      "15511210043330985984000000\n"
     ]
    }
   ],
   "source": [
    "l2 = list(range(1,26))\n",
    "\n",
    "s1 = reduce(lambda x,y: x*y,l2)\n",
    "print(s1)"
   ]
  },
  {
   "cell_type": "markdown",
   "id": "c9c53181-23fe-4bfd-a085-9c5914de75c3",
   "metadata": {},
   "source": [
    "Q5. Write a python  program  to filter the number in a givev list that are divisible by 2 and 3 using the filter function.\n",
    "\n",
    "[2, 3, 6, 9, 27, 60, 90, 120, 55, 46]"
   ]
  },
  {
   "cell_type": "code",
   "execution_count": 45,
   "id": "ed8a96fb-76b1-47c5-99e4-76e7900d9ed6",
   "metadata": {},
   "outputs": [
    {
     "data": {
      "text/plain": [
       "[6, 60, 90, 120]"
      ]
     },
     "execution_count": 45,
     "metadata": {},
     "output_type": "execute_result"
    }
   ],
   "source": [
    "l3 = [2, 3, 6, 9, 27, 60, 90, 120, 55, 46]\n",
    "\n",
    "list(filter(lambda x:(x%2==0)and(x%3==0),l3))"
   ]
  },
  {
   "cell_type": "markdown",
   "id": "4bd98e0e-7ae7-4679-9c7b-b0355b7aed3c",
   "metadata": {},
   "source": [
    "Q6. Write a python program to find palindromes in the given list of string using lambda and filter function.\n",
    "\n",
    "['python','php','aba','radar','level]"
   ]
  },
  {
   "cell_type": "code",
   "execution_count": 50,
   "id": "b1fd9154-823c-4a28-9559-d278bb12d2f9",
   "metadata": {},
   "outputs": [
    {
     "name": "stdout",
     "output_type": "stream",
     "text": [
      "['php', 'aba', 'radar', 'level']\n"
     ]
    }
   ],
   "source": [
    "string = ['python','php','aba','radar','level']\n",
    "\n",
    "palind = list(filter(lambda word : word == word [::-1], string))\n",
    "print(palind)"
   ]
  },
  {
   "cell_type": "code",
   "execution_count": null,
   "id": "4b09ba02-7be8-44e3-82aa-d10fd4276b9a",
   "metadata": {},
   "outputs": [],
   "source": []
  }
 ],
 "metadata": {
  "kernelspec": {
   "display_name": "Python 3 (ipykernel)",
   "language": "python",
   "name": "python3"
  },
  "language_info": {
   "codemirror_mode": {
    "name": "ipython",
    "version": 3
   },
   "file_extension": ".py",
   "mimetype": "text/x-python",
   "name": "python",
   "nbconvert_exporter": "python",
   "pygments_lexer": "ipython3",
   "version": "3.9.7"
  }
 },
 "nbformat": 4,
 "nbformat_minor": 5
}
