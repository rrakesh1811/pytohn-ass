{
 "cells": [
  {
   "cell_type": "markdown",
   "id": "bef08fab-2f18-4ca2-aef8-1c9e77891076",
   "metadata": {},
   "source": [
    "Q1. Explain with an example each when to use a for loop and a while loop"
   ]
  },
  {
   "cell_type": "markdown",
   "id": "c9a61c18-2d92-45d7-990a-dd7c7629e3ef",
   "metadata": {},
   "source": [
    "A'for' loop is used when we know how many times we want  to repeat a set of instructios. It is often used for iterating over sequences such as lists, tuples, strings, and dictionaries. Here's as example:\n",
    "\n",
    "using a for loop to print numbers from 1 to 10"
   ]
  },
  {
   "cell_type": "code",
   "execution_count": 1,
   "id": "c97533bb-a31b-4fea-81ad-f4a930f55bd3",
   "metadata": {},
   "outputs": [
    {
     "name": "stdout",
     "output_type": "stream",
     "text": [
      "2\n",
      "3\n",
      "4\n",
      "5\n",
      "6\n",
      "7\n",
      "8\n",
      "9\n",
      "10\n",
      "11\n"
     ]
    }
   ],
   "source": [
    "for i in range(2,12):\n",
    "    print(i)"
   ]
  },
  {
   "cell_type": "markdown",
   "id": "ae60550f-5040-4705-a5e2-2f60af2763f5",
   "metadata": {},
   "source": [
    "A 'while' loop is used when we don't know how many times we want to rapeat a set of instructions. It continues to execute the code block as long as the specified condition is true. Here's as example:"
   ]
  },
  {
   "cell_type": "code",
   "execution_count": 2,
   "id": "d304d720-6e44-4980-8c51-e74204f738a9",
   "metadata": {},
   "outputs": [
    {
     "name": "stdout",
     "output_type": "stream",
     "text": [
      "1\n",
      "2\n",
      "3\n",
      "4\n",
      "5\n",
      "6\n",
      "7\n",
      "8\n",
      "9\n",
      "10\n",
      "11\n"
     ]
    }
   ],
   "source": [
    "# while loop\n",
    "\n",
    "i = 1\n",
    "while i <=11:\n",
    "    print(i)\n",
    "    i += 1"
   ]
  },
  {
   "cell_type": "markdown",
   "id": "05ad8a85-acff-4978-bd9b-6e761569e2aa",
   "metadata": {},
   "source": [
    "Q2.Write a python program to print the sum and product of the first 10 natural numbers usting for and while loop."
   ]
  },
  {
   "cell_type": "code",
   "execution_count": 3,
   "id": "ee705c50-2c0e-47a5-b57a-b30177a53b3f",
   "metadata": {},
   "outputs": [
    {
     "name": "stdout",
     "output_type": "stream",
     "text": [
      "55\n",
      "3628800\n"
     ]
    }
   ],
   "source": [
    "# Sum and product of the first 10 natural number using for loop\n",
    "\n",
    "numbers = list(range(1,11))\n",
    "sum = 0\n",
    "product = 1\n",
    "\n",
    "for num in numbers:\n",
    "    sum += num\n",
    "    product *= num\n",
    "    \n",
    "print(sum)\n",
    "print(product)"
   ]
  },
  {
   "cell_type": "code",
   "execution_count": 4,
   "id": "66986d27-42e7-4264-9e66-e7ba6ed55dcb",
   "metadata": {},
   "outputs": [
    {
     "name": "stdout",
     "output_type": "stream",
     "text": [
      "55\n",
      "3628800\n"
     ]
    }
   ],
   "source": [
    "# Sum and product of the first 10 natural numbers using while loop\n",
    "\n",
    "numbers = list(range(1,11))\n",
    "sum = 0\n",
    "product = 1\n",
    "i = 0\n",
    "\n",
    "while i < len(numbers):\n",
    "    sum += numbers[i]\n",
    "    product *= numbers[i]\n",
    "    i += 1\n",
    "    \n",
    "print(sum)\n",
    "print(product)"
   ]
  },
  {
   "cell_type": "markdown",
   "id": "a9d966ca-49cd-445a-b0bc-4ccaa18294ce",
   "metadata": {},
   "source": [
    "Q3. Create a python  program to compute the electricity bill for a household.\n",
    "\n",
    "The per-unit charges in rupees are as follows: For the first 100 untis, the user will be charged Rs.4.5 per unti, for the next 100 untis, the user will be charged Rs.6 per unit, and for the next 100 units, the user will be charged Rs.10 per unit, After 300 untis and above the user charged Rs.20 per unit.\n",
    "\n",
    "You are required to take the units of electricity consumed in a month from use r as input\n",
    "\n",
    "your program must pass this test case: When the unit of electrucity consumed by the user in a month is 310, the total electricity bill should be 2250."
   ]
  },
  {
   "cell_type": "code",
   "execution_count": 5,
   "id": "e328ec77-334b-4873-85b2-fa531f5ff2e2",
   "metadata": {},
   "outputs": [
    {
     "name": "stdin",
     "output_type": "stream",
     "text": [
      "Enter the untis 310\n"
     ]
    },
    {
     "name": "stdout",
     "output_type": "stream",
     "text": [
      "2250.0\n"
     ]
    }
   ],
   "source": [
    "untis = int(input(\"Enter the untis\"))\n",
    "\n",
    "if untis <= 100:\n",
    "    Bill = untis * 4.5\n",
    "elif untis <= 200:\n",
    "    Bill = 100 * 4.5 + (untis - 100)  \n",
    "elif untis <= 300:\n",
    "    Bill = 100 * 4.5 + 100 * 6 + (units - 200) * 10\n",
    "else:\n",
    "    Bill = 100 * 4.5 + 100 * 6 + 100 * 10 + (untis - 300) * 20\n",
    "    \n",
    "print (Bill)"
   ]
  },
  {
   "cell_type": "markdown",
   "id": "3ad64fad-9bd8-4b1d-87c6-bc8601e970d3",
   "metadata": {},
   "source": [
    "Q4. Create a list of numbers from 1 to 100 . Use for loop and while loop to calculate the cube of each number and if the cube of that number is divisible by 4 or 5 then apppend that number in a list an print that list."
   ]
  },
  {
   "cell_type": "code",
   "execution_count": 6,
   "id": "cc49c434-8fde-4da9-bdb8-6c5799151f84",
   "metadata": {},
   "outputs": [
    {
     "name": "stdout",
     "output_type": "stream",
     "text": [
      "[2, 4, 5, 6, 8, 10, 12, 14, 15, 16, 18, 20, 22, 24, 25, 26, 28, 30, 32, 34, 35, 36, 38, 40, 42, 44, 45, 46, 48, 50, 52, 54, 55, 56, 58, 60, 62, 64, 65, 66, 68, 70, 72, 74, 75, 76, 78, 80, 82, 84, 85, 86, 88, 90, 92, 94, 95, 96, 98, 100]\n"
     ]
    }
   ],
   "source": [
    "lis = list(range(1,101))\n",
    "cubes = []\n",
    "\n",
    "for i in lis:\n",
    "    cube = i**3\n",
    "    if cube% 4 ==0 or cube% 5 == 0:\n",
    "        cubes.append(i)\n",
    "        \n",
    "print(cubes)\n",
    "    "
   ]
  },
  {
   "cell_type": "code",
   "execution_count": 7,
   "id": "339c6110-b0cf-4359-8bcc-936a386d4b5f",
   "metadata": {},
   "outputs": [
    {
     "name": "stdout",
     "output_type": "stream",
     "text": [
      "[2, 4, 5, 6, 8, 10, 12, 14, 15, 16, 18, 20, 22, 24, 25, 26, 28, 30, 32, 34, 35, 36, 38, 40, 42, 44, 45, 46, 48, 50, 52, 54, 55, 56, 58, 60, 62, 64, 65, 66, 68, 70, 72, 74, 75, 76, 78, 80, 82, 84, 85, 86, 88, 90, 92, 94, 95, 96, 98, 100]\n"
     ]
    }
   ],
   "source": [
    "lis = list(range(1,101))\n",
    "cubes = []\n",
    "i = 0\n",
    "while i< len(lis):\n",
    "    num = lis[i]\n",
    "    cube = num ** 3\n",
    "    if cube % 4 == 0 or cube % 5 == 0:\n",
    "        cubes.append(num)\n",
    "    i += 1 \n",
    "print(cubes)"
   ]
  },
  {
   "cell_type": "markdown",
   "id": "3d771392-c9d7-4107-b366-230b9f76acb4",
   "metadata": {},
   "source": [
    "Q5.Write a program to filter count vowels in the below-given string.\n",
    "\n",
    "string = \"I want to become a data scientist\""
   ]
  },
  {
   "cell_type": "code",
   "execution_count": 18,
   "id": "05a93b7f-df04-4f70-9f7d-11f5cdfde60d",
   "metadata": {},
   "outputs": [
    {
     "name": "stdout",
     "output_type": "stream",
     "text": [
      "The number of vowels in string is: 12\n"
     ]
    }
   ],
   "source": [
    "string = \"I want to become a data scientist\"\n",
    "\n",
    "\n",
    "vowels = ['a', 'e', 'i', 'o', 'u']\n",
    "count = 0\n",
    "\n",
    "for  i in string:\n",
    "    if i.lower() in vowels:\n",
    "        count +=1\n",
    "        \n",
    "print(\"The number of vowels in string is:\",count)"
   ]
  },
  {
   "cell_type": "code",
   "execution_count": null,
   "id": "3f5fff85-c02e-443a-9bdd-58d63c4aaf6e",
   "metadata": {},
   "outputs": [],
   "source": []
  }
 ],
 "metadata": {
  "kernelspec": {
   "display_name": "Python 3 (ipykernel)",
   "language": "python",
   "name": "python3"
  },
  "language_info": {
   "codemirror_mode": {
    "name": "ipython",
    "version": 3
   },
   "file_extension": ".py",
   "mimetype": "text/x-python",
   "name": "python",
   "nbconvert_exporter": "python",
   "pygments_lexer": "ipython3",
   "version": "3.9.7"
  }
 },
 "nbformat": 4,
 "nbformat_minor": 5
}
