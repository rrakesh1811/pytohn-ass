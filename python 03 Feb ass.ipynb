{
 "cells": [
  {
   "cell_type": "markdown",
   "id": "469a03dc-148b-433b-aa9c-ad27ad3ac87e",
   "metadata": {},
   "source": [
    "Q1. Which keyword is used to create a function? Create a function to return a list of odd numbers in the range of 1 to 25."
   ]
  },
  {
   "cell_type": "code",
   "execution_count": 65,
   "id": "f30956c7-1c9d-4a0c-9fe8-7593bf6e2179",
   "metadata": {},
   "outputs": [],
   "source": [
    "# The \"def\" function is used to create a function python\n",
    "\n",
    "odd_numbers = []\n",
    "\n",
    "def Trac1():\n",
    "    for i in range(1,26):\n",
    "        if i % 2 != 0:\n",
    "            odd_numbers.append(i)\n",
    "            \n",
    "    return odd_numbers"
   ]
  },
  {
   "cell_type": "code",
   "execution_count": 66,
   "id": "13d0c091-44b8-4e4d-81c6-98bbccff89c6",
   "metadata": {},
   "outputs": [
    {
     "data": {
      "text/plain": [
       "[1, 3, 5, 7, 9, 11, 13, 15, 17, 19, 21, 23, 25]"
      ]
     },
     "execution_count": 66,
     "metadata": {},
     "output_type": "execute_result"
    }
   ],
   "source": [
    "Trac1()"
   ]
  },
  {
   "cell_type": "markdown",
   "id": "56434df8-dd39-43da-aa56-8cbc4b545bbe",
   "metadata": {},
   "source": [
    "Q2. Why *args and **kwargs is used in some functioms? Create a function each for * args and **kwargs to demonstrate their use."
   ]
  },
  {
   "cell_type": "markdown",
   "id": "19b50711-8e19-465a-b6f0-66169a5c708c",
   "metadata": {},
   "source": [
    "The '*args' parameter allows you to pass a variable number of postional arguments to a function. This means that you can pass any number of arguments of the function, and they will be packed into a tuple. You can then iterte over this tuple to access the individual arguments."
   ]
  },
  {
   "cell_type": "code",
   "execution_count": 67,
   "id": "0e05d093-9f2a-492e-ba2e-67e4683e45c1",
   "metadata": {},
   "outputs": [],
   "source": [
    "def allows(*args):\n",
    "    return args\n",
    "        "
   ]
  },
  {
   "cell_type": "code",
   "execution_count": 68,
   "id": "a207b234-2010-401f-bbcb-de5cbd5ce246",
   "metadata": {},
   "outputs": [
    {
     "data": {
      "text/plain": [
       "(1, 2, 3, 4, 4, 'rakesh')"
      ]
     },
     "execution_count": 68,
     "metadata": {},
     "output_type": "execute_result"
    }
   ],
   "source": [
    "allows(1,2,3,4,4,\"rakesh\")"
   ]
  },
  {
   "cell_type": "markdown",
   "id": "6942b385-a8a2-4f37-a438-1703c7cf99c7",
   "metadata": {},
   "source": [
    "The '**kwargs' parameter allows you to pass a variable number of keyword arguments to a function. This means that you can pass any number of arguments to the function using a key-value syntax. These arguments are then packed into a dictionary, and you can access the individual arguments using their corresponding keys."
   ]
  },
  {
   "cell_type": "code",
   "execution_count": 69,
   "id": "0622ea7b-0d92-45a2-8e3d-bc25ac7611b3",
   "metadata": {},
   "outputs": [],
   "source": [
    "def into (**kwargs):\n",
    "    return kwargs"
   ]
  },
  {
   "cell_type": "code",
   "execution_count": 70,
   "id": "d1e893e7-8056-4399-ba1f-d0ad453eac92",
   "metadata": {},
   "outputs": [
    {
     "data": {
      "text/plain": [
       "{'name': 'rakesh', 'age': 22, 'city': 'pune'}"
      ]
     },
     "execution_count": 70,
     "metadata": {},
     "output_type": "execute_result"
    }
   ],
   "source": [
    "into(name = \"rakesh\",age = 22,city = \"pune\")"
   ]
  },
  {
   "cell_type": "markdown",
   "id": "fc610598-7681-47f8-b762-6e13a497ada9",
   "metadata": {},
   "source": [
    "Q3. What is an iterator in python? Name the method used to initialise the iterator object and the method uses for iteration. Use these methods to print the first five elements of the given list [2,4,6,8,12,14,16,18,20]"
   ]
  },
  {
   "cell_type": "code",
   "execution_count": 71,
   "id": "1b319c71-9b6e-4a4d-b512-02de4ac2394f",
   "metadata": {},
   "outputs": [
    {
     "name": "stdout",
     "output_type": "stream",
     "text": [
      "2\n",
      "4\n",
      "6\n",
      "8\n",
      "12\n"
     ]
    }
   ],
   "source": [
    "lst = [2,4,6,8,12,14,16,18,20]\n",
    "\n",
    "it  =  iter(lst)\n",
    "for i in range(5):\n",
    "    element = next(it)\n",
    "    print(element)"
   ]
  },
  {
   "cell_type": "markdown",
   "id": "bdf8084a-2ded-43ac-bc35-b75a5de05484",
   "metadata": {},
   "source": [
    "Q4. What us a generator function in python? Why yield keyword is used? Give an example of a generator function."
   ]
  },
  {
   "cell_type": "markdown",
   "id": "c52cf1dd-e1e3-477e-b51c-590a299ba9fb",
   "metadata": {},
   "source": [
    "A generatpr function is a special type of function in python that allows you to generate a sequence of values on-the-fly, without the need to store them in memory all at once. Instead of returning a value a genertor function yields a value, which can be accessd one at a time using a 'for' loop or the 'next()'function."
   ]
  },
  {
   "cell_type": "code",
   "execution_count": 72,
   "id": "3d7bee76-cdf5-49ae-9fec-54607988e0e8",
   "metadata": {},
   "outputs": [],
   "source": [
    "def numbers(n):\n",
    "    for i in range(n):\n",
    "        if i % 2 ==0:\n",
    "            yield i"
   ]
  },
  {
   "cell_type": "code",
   "execution_count": 73,
   "id": "4d722997-5f13-455d-9523-10b9e0b4e957",
   "metadata": {},
   "outputs": [
    {
     "name": "stdout",
     "output_type": "stream",
     "text": [
      "0\n",
      "2\n",
      "4\n",
      "6\n",
      "8\n"
     ]
    }
   ],
   "source": [
    "for num in numbers(10):\n",
    "    print(num)"
   ]
  },
  {
   "cell_type": "markdown",
   "id": "3a9edbaf-cc91-467b-ac94-1cee6e0c6fa0",
   "metadata": {},
   "source": [
    "Q5.Create a generator function for prime numbers less than 1000. Use the next() method to print the\n",
    "first 20 prime numbers."
   ]
  },
  {
   "cell_type": "code",
   "execution_count": 74,
   "id": "f7ea5577-ebcd-4997-80e2-f2feb8da1c87",
   "metadata": {},
   "outputs": [],
   "source": [
    "def prime_numbers():\n",
    "    num = 2\n",
    "    while True:\n",
    "        if all(num % i != 0 for i in range(2, int(num ** 0.5) + 1)):\n",
    "            yield num\n",
    "        num += 1\n",
    "        if num >= 1000:\n",
    "            break\n"
   ]
  },
  {
   "cell_type": "code",
   "execution_count": 75,
   "id": "be73af4b-607d-47ec-a8ae-b08409dcafb9",
   "metadata": {},
   "outputs": [
    {
     "name": "stdout",
     "output_type": "stream",
     "text": [
      "2\n",
      "3\n",
      "5\n",
      "7\n",
      "11\n",
      "13\n",
      "17\n",
      "19\n",
      "23\n",
      "29\n",
      "31\n",
      "37\n",
      "41\n",
      "43\n",
      "47\n",
      "53\n",
      "59\n",
      "61\n",
      "67\n",
      "71\n"
     ]
    }
   ],
   "source": [
    "dprimes = prime_numbers()\n",
    "\n",
    "for i in range(20):\n",
    "    print(next(dprimes))\n"
   ]
  },
  {
   "cell_type": "markdown",
   "id": "3e855a0b-a084-4a8e-b12b-d78ccc84c3d6",
   "metadata": {},
   "source": [
    "Q6.Write a python program to print the first 10 Fibonacci numbers using a while loop."
   ]
  },
  {
   "cell_type": "code",
   "execution_count": 77,
   "id": "eda6495b-a674-4bda-b6de-beea5bf2fdd3",
   "metadata": {},
   "outputs": [
    {
     "name": "stdin",
     "output_type": "stream",
     "text": [
      "enter the number of element you are looking for 10\n"
     ]
    },
    {
     "name": "stdout",
     "output_type": "stream",
     "text": [
      "0\n",
      "1\n",
      "1\n",
      "2\n",
      "3\n",
      "5\n",
      "8\n",
      "13\n",
      "21\n",
      "34\n"
     ]
    }
   ],
   "source": [
    "numbers = int(input(\"enter the number of element you are looking for\"))\n",
    "\n",
    "a,b = 0,1\n",
    "counter = 0 \n",
    "while counter <numbers :\n",
    "    print(a)\n",
    "    c= a+b\n",
    "    a = b\n",
    "    b = c\n",
    "    counter = counter + 1"
   ]
  },
  {
   "cell_type": "markdown",
   "id": "d55b60bb-a95d-496e-b899-3718275cf430",
   "metadata": {},
   "source": [
    "Q7. Write a List Comprehension to iterate through the given string: ‘pwskills’.\n",
    "Expected output: ['p', 'w', 's', 'k', 'i', 'l', 'l', 's']"
   ]
  },
  {
   "cell_type": "code",
   "execution_count": 100,
   "id": "66b7c59c-2901-45a5-a762-af46a79e0427",
   "metadata": {},
   "outputs": [
    {
     "name": "stdout",
     "output_type": "stream",
     "text": [
      "['p', 'w', 's', 'k', 'l', 'l', 's']\n"
     ]
    }
   ],
   "source": [
    "string = \"pwskills\"\n",
    "[i for i in string if i != 'aeiou']\n",
    "print(rake)"
   ]
  },
  {
   "cell_type": "markdown",
   "id": "53be4122-c9f8-4b67-847c-e29b6d259018",
   "metadata": {},
   "source": [
    "Q8. Write a python program to check whether a given number is palindrome or not using a while loop."
   ]
  },
  {
   "cell_type": "code",
   "execution_count": 129,
   "id": "3819b3a1-aa29-4cb4-b5f7-b4135a98540c",
   "metadata": {},
   "outputs": [
    {
     "name": "stdin",
     "output_type": "stream",
     "text": [
      "Enter a number: 11011\n"
     ]
    },
    {
     "name": "stdout",
     "output_type": "stream",
     "text": [
      "11011 is a palindrome number\n"
     ]
    }
   ],
   "source": [
    "num = int(input(\"Enter a number:\"))\n",
    "\n",
    "original_num = num\n",
    "\n",
    "reverse_num = 0\n",
    "while num >0:\n",
    "    remainder = num % 10\n",
    "    reverse_num = (reverse_num * 10) + remainder\n",
    "    num = num // 10\n",
    "    \n",
    "if original_num == reverse_num:\n",
    "    print(original_num,\"is a palindrome number\")\n",
    "else:\n",
    "    print(original_num,\"is not a palindrome number\")"
   ]
  },
  {
   "cell_type": "markdown",
   "id": "602ce806-c89d-43aa-8493-e1b06ff17e7c",
   "metadata": {},
   "source": [
    "Q9. Write a code to print odd numbers from 1 to 100 using list comprehension."
   ]
  },
  {
   "cell_type": "code",
   "execution_count": 132,
   "id": "238d938d-3245-42ed-851b-82853491abc0",
   "metadata": {},
   "outputs": [
    {
     "data": {
      "text/plain": [
       "[1,\n",
       " 3,\n",
       " 5,\n",
       " 7,\n",
       " 9,\n",
       " 11,\n",
       " 13,\n",
       " 15,\n",
       " 17,\n",
       " 19,\n",
       " 21,\n",
       " 23,\n",
       " 25,\n",
       " 27,\n",
       " 29,\n",
       " 31,\n",
       " 33,\n",
       " 35,\n",
       " 37,\n",
       " 39,\n",
       " 41,\n",
       " 43,\n",
       " 45,\n",
       " 47,\n",
       " 49,\n",
       " 51,\n",
       " 53,\n",
       " 55,\n",
       " 57,\n",
       " 59,\n",
       " 61,\n",
       " 63,\n",
       " 65,\n",
       " 67,\n",
       " 69,\n",
       " 71,\n",
       " 73,\n",
       " 75,\n",
       " 77,\n",
       " 79,\n",
       " 81,\n",
       " 83,\n",
       " 85,\n",
       " 87,\n",
       " 89,\n",
       " 91,\n",
       " 93,\n",
       " 95,\n",
       " 97,\n",
       " 99]"
      ]
     },
     "execution_count": 132,
     "metadata": {},
     "output_type": "execute_result"
    }
   ],
   "source": [
    "l = [i for i  in range(1,101)]\n",
    "\n",
    "[i for i in l if i % 2 == 1]"
   ]
  },
  {
   "cell_type": "code",
   "execution_count": null,
   "id": "8e986e75-bc89-4ef6-9da4-0bdc3de8d4a1",
   "metadata": {},
   "outputs": [],
   "source": []
  }
 ],
 "metadata": {
  "kernelspec": {
   "display_name": "Python 3 (ipykernel)",
   "language": "python",
   "name": "python3"
  },
  "language_info": {
   "codemirror_mode": {
    "name": "ipython",
    "version": 3
   },
   "file_extension": ".py",
   "mimetype": "text/x-python",
   "name": "python",
   "nbconvert_exporter": "python",
   "pygments_lexer": "ipython3",
   "version": "3.9.7"
  }
 },
 "nbformat": 4,
 "nbformat_minor": 5
}
